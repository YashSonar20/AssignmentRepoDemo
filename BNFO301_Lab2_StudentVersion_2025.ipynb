{
  "nbformat": 4,
  "nbformat_minor": 0,
  "metadata": {
    "colab": {
      "provenance": [],
      "include_colab_link": true
    },
    "kernelspec": {
      "name": "python3",
      "display_name": "Python 3"
    },
    "language_info": {
      "name": "python"
    }
  },
  "cells": [
    {
      "cell_type": "markdown",
      "metadata": {
        "id": "view-in-github",
        "colab_type": "text"
      },
      "source": [
        "<a href=\"https://colab.research.google.com/github/YashSonar20/AssignmentRepoDemo/blob/main/BNFO301_Lab2_StudentVersion_2025.ipynb\" target=\"_parent\"><img src=\"https://colab.research.google.com/assets/colab-badge.svg\" alt=\"Open In Colab\"/></a>"
      ]
    },
    {
      "cell_type": "markdown",
      "metadata": {
        "id": "7cO3yM78Nwcx"
      },
      "source": [
        "# **BNFO301 Week 2**\n",
        "\n",
        "---\n",
        "\n",
        "\n",
        "\n",
        "---\n",
        "\n",
        "\n",
        "This week's assignment is designed to refresh and test your knowledge of the basics of Python. Using the provided FASTA file you will be asked to parse a fasta file into a dictionary. Specific calculations will be made on the sequences and outputed into a file. This project is made to practice inbuilt functions in python in a bioinformatics-focused problem, so **no imports** are necessary for the lab today. Note, specific pseudocode is provided below to help you with todays project.\n",
        "\n",
        "\n",
        "This program requires: an external dataset.  The data can be obtained by running the first box.\n",
        "\n",
        "\n",
        "Grading Breakdown: 5 points for Part 1, 5 points for part 2-5; 1 point extra credit for part 6\n",
        "\n",
        "**You are not allowed to use AI to generate code when completing this assignment.  Please ignore any prompts to generate code with AI.**\n",
        "\n"
      ]
    },
    {
      "cell_type": "markdown",
      "metadata": {
        "id": "THAoJ5jJOOHk"
      },
      "source": [
        "### Part 0- Importing Datafile\n",
        "This code prompts the used to for a filename and reads the file. Please **do not change the code below.**\n",
        "#### Important: Run this block of code before proceeding, hit enter and re-run everytime you rerun your code.\n",
        " If this block of code doesn't work automatically, please call a TA or instructor."
      ]
    },
    {
      "cell_type": "code",
      "metadata": {
        "id": "gxcNnTngUUAd",
        "colab": {
          "base_uri": "https://localhost:8080/"
        },
        "outputId": "486c347c-fa3c-49db-8a81-27a1fb69e115"
      },
      "source": [
        "# read the input file\n",
        " # the data is in the fasta file format (note that you can paste the link to a broswer window and view the data)\n",
        "\n",
        "DEFAULT_FILE_NAME = 'HW1_SampleData.txt'\n",
        "DATA_FILE_GITHUB = \"https://raw.githubusercontent.com/boydvcu/BNFO301_2023/main/HW1_SampleData.txt\"\n",
        "\n",
        "fileName = DEFAULT_FILE_NAME\n",
        "\n",
        "#Does the file exists locally, if not get it from the github\n",
        "import os.path\n",
        "if not os.path.exists(fileName):\n",
        "  #Load the file from Github to the local folder\n",
        "  !wget --no-check-certificate --content-disposition $DATA_FILE_GITHUB\n",
        "\n",
        "\n",
        "print(\"Reading file:\", fileName)\n"
      ],
      "execution_count": null,
      "outputs": [
        {
          "output_type": "stream",
          "name": "stdout",
          "text": [
            "Reading file: HW1_SampleData.txt\n"
          ]
        }
      ]
    },
    {
      "cell_type": "markdown",
      "metadata": {
        "id": "XvTa2euNSY9Y"
      },
      "source": [
        "### Part 1- Parse File and Read into Dictionary\n",
        " Parse the file into a dictonary that collects the sequence header (key),and A,T,C,G, and total nucleotide count (a list of values) into a dictonary using a loop (don’t forget to clean the white space!)\n",
        "\n",
        "We have provided the expected output for the dictionary below: <br>\n",
        "{<br>'HXB2_NesTed_Amplified_ReGion': [3219, 1572, 2146, 1971, 8908], <br> 'KY778388.1 HIV-1 isolATe 2275-EM-1 from USA defeCTive provirus GenomiC sequenCe': [2864, 1378, 1875, 1790, 7907], <br>'KY778389.1 HIV-1 isolATe 2275-EM-10 from USA defeCTive provirus GenomiC sequenCe': [2864, 1378, 1875, 1790, 7907],<br> 'KY778396.1 HIV-1 isolate 2275-EM-22 from USA defective provirus genomic sequence': [3249, 1594, 2161, 1987, 8991],<br> 'KY778397.1 HIV-1 isolate 2275-EM-24 from USA defective provirus genomic sequence': [2864, 1378, 1875, 1790, 7907],<br> 'KY778390.1 HIV-1 isolATe 2275-EM-11 from USA defeCTive provirus GenomiC sequenCe': [3250, 1594, 2160, 1987, 8991],<br> 'KY778398.1 HIV-1 isolate 2275-EM-25 from USA defective provirus genomic sequence': [3249, 1594, 2161, 1987, 8991],<br> 'KY778391.1 HIV-1 isolATe 2275-EM-12 from USA defeCTive provirus GenomiC sequenCe': [2864, 1378, 1875, 1790, 7907],<br> 'KY778392.1 HIV-1 isolATe 2275-EM-14 from USA defeCTive provirus GenomiC sequenCe': [3249, 1594, 2161, 1987, 8991],<br> 'KY778393.1 HIV-1 isolATe 2275-EM-16 from USA defeCTive provirus GenomiC sequenCe': [225, 156, 224, 162, 767],<br> 'KY778399.1 HIV-1 isolate 2275-EM-26 from USA defective provirus genomic sequence': [2864, 1379, 1876, 1788, 7907],<br> 'KY778394.1 HIV-1 isolATe 2275-EM-2 from USA defeCTive provirus GenomiC sequenCe': [3249, 1594, 2161, 1987, 8991],<br> 'KY778395.1 HIV-1 isolATe 2275-EM-21 from USA defeCTive provirus GenomiC sequenCe': [3258, 1595, 2163, 1993, 9009]<br>}<br>\n",
        "*If you are unable to complete this part of the program, you may use this output to complete the rest of the assignment*\n",
        "\n",
        "\n"
      ]
    },
    {
      "cell_type": "code",
      "metadata": {
        "id": "WgS5pWU3VIQj",
        "colab": {
          "base_uri": "https://localhost:8080/"
        },
        "outputId": "5ce18664-8dd4-4232-b147-642f203403a8"
      },
      "source": [
        "from re import L\n",
        "from os import cpu_count\n",
        "\n",
        "# create a dictionary that will contain sequence name and the respective counts of nucleotides\n",
        "newDict = {}\n",
        "nucs = \"ACGT\"  # use this string nucleotide characters to loop through each nucelotide sequence and count matching bases\n",
        "currSeq = \"\" # use this variable to store the sequence's name\n",
        "seqNum = 0 # use this variable to count the number of sequences in the file\n",
        "\n",
        "# open the file\n",
        "\"\"\"\n",
        "open the file as a fasta file saved as a variable f\n",
        "\"\"\"\n",
        "with open(fileName) as f:\n",
        "  #read in the file lines\n",
        "  # determine if the current line contains a header (How do you know a header line in fasta format?\n",
        "  for line in f:\n",
        "    #if the current line starts with a >,\n",
        "       if line.startswith(\">\"):\n",
        "    ### store the header (as a key in a dictionary) and create intialize a list (as the value) that can be used to store base counts (recall you have four bases: A, T, C, G)\n",
        "      ### please strip the \">\" from the header\n",
        "        currSeq = line.lstrip(\">\")\n",
        "        seqNum += 1\n",
        "        newDict[currSeq] = [0,0,0,0,0]\n",
        "\n",
        "\n",
        "  # if my line is not a header strip and white spaces and make all my nucleotides uppercase (both upper and lower case characters are used in fasta files)\n",
        "       else:\n",
        "        line = line.strip()\n",
        "        line = line.upper()\n",
        "    ### count each base (A, T, C, and G) and add to the list of values in the dictionary\n",
        "        for i in range(len(nucs)):\n",
        "            newDict[currSeq][i] += line.count(nucs[i])\n",
        "            newDict[currSeq][4] += line.count(nucs[i])\n",
        "    ### in addition, calculate the overall sequence length (think about the best way to complete this task)\n",
        "### note that sequences may appear on more than one line in thefasta file formate\n",
        "print((newDict))"
      ],
      "execution_count": 100,
      "outputs": [
        {
          "output_type": "stream",
          "name": "stdout",
          "text": [
            "{'HXB2_NesTed_Amplified_ReGion\\n': [3219, 1572, 2146, 1971, 8908], 'KY778388.1 HIV-1 isolATe 2275-EM-1 from USA defeCTive provirus GenomiC sequenCe\\n': [2864, 1378, 1875, 1790, 7907], 'KY778389.1 HIV-1 isolATe 2275-EM-10 from USA defeCTive provirus GenomiC sequenCe\\n': [2864, 1378, 1875, 1790, 7907], 'KY778396.1 HIV-1 isolate 2275-EM-22 from USA defective provirus genomic sequence\\n': [3249, 1594, 2161, 1987, 8991], 'KY778397.1 HIV-1 isolate 2275-EM-24 from USA defective provirus genomic sequence\\n': [2864, 1378, 1875, 1790, 7907], 'KY778390.1 HIV-1 isolATe 2275-EM-11 from USA defeCTive provirus GenomiC sequenCe\\n': [3250, 1594, 2160, 1987, 8991], 'KY778398.1 HIV-1 isolate 2275-EM-25 from USA defective provirus genomic sequence\\n': [3249, 1594, 2161, 1987, 8991], 'KY778391.1 HIV-1 isolATe 2275-EM-12 from USA defeCTive provirus GenomiC sequenCe\\n': [2864, 1378, 1875, 1790, 7907], 'KY778392.1 HIV-1 isolATe 2275-EM-14 from USA defeCTive provirus GenomiC sequenCe\\n': [3249, 1594, 2161, 1987, 8991], 'KY778393.1 HIV-1 isolATe 2275-EM-16 from USA defeCTive provirus GenomiC sequenCe\\n': [225, 156, 224, 162, 767], 'KY778399.1 HIV-1 isolate 2275-EM-26 from USA defective provirus genomic sequence\\n': [2864, 1379, 1876, 1788, 7907], 'KY778394.1 HIV-1 isolATe 2275-EM-2 from USA defeCTive provirus GenomiC sequenCe\\n': [3249, 1594, 2161, 1987, 8991], 'KY778395.1 HIV-1 isolATe 2275-EM-21 from USA defeCTive provirus GenomiC sequenCe\\n': [3258, 1595, 2163, 1993, 9009]}\n"
          ]
        }
      ]
    },
    {
      "cell_type": "markdown",
      "metadata": {
        "id": "toO36cBISl5J"
      },
      "source": [
        "### Part 2- Output the length of the sequences from the dictionary.\n",
        "The output should indluce  'Sequence Name' Length: 'length'\n",
        "\n",
        "\n",
        "\n"
      ]
    },
    {
      "cell_type": "code",
      "metadata": {
        "id": "o7YCSlH4V7b3",
        "colab": {
          "base_uri": "https://localhost:8080/"
        },
        "outputId": "347a44df-d261-4cc9-b077-be45b4b5cf5b"
      },
      "source": [
        "# Print each sequence name and its length from sequence dictionary\n",
        "for i in range(len(newDict)):\n",
        "  #list object got from https://stackoverflow.com/questions/26394748/nltk-python-error-typeerror-dict-keys-object-is-not-subscriptable\n",
        "  currSeq = list(newDict.keys())[i]\n",
        "  print(f'Sequence Name:{currSeq} Length:{ (newDict[currSeq][4])}')"
      ],
      "execution_count": 99,
      "outputs": [
        {
          "output_type": "stream",
          "name": "stdout",
          "text": [
            "Sequence Name:HXB2_NesTed_Amplified_ReGion\n",
            " Length:8908\n",
            "Sequence Name:KY778388.1 HIV-1 isolATe 2275-EM-1 from USA defeCTive provirus GenomiC sequenCe\n",
            " Length:7907\n",
            "Sequence Name:KY778389.1 HIV-1 isolATe 2275-EM-10 from USA defeCTive provirus GenomiC sequenCe\n",
            " Length:7907\n",
            "Sequence Name:KY778396.1 HIV-1 isolate 2275-EM-22 from USA defective provirus genomic sequence\n",
            " Length:8991\n",
            "Sequence Name:KY778397.1 HIV-1 isolate 2275-EM-24 from USA defective provirus genomic sequence\n",
            " Length:7907\n",
            "Sequence Name:KY778390.1 HIV-1 isolATe 2275-EM-11 from USA defeCTive provirus GenomiC sequenCe\n",
            " Length:8991\n",
            "Sequence Name:KY778398.1 HIV-1 isolate 2275-EM-25 from USA defective provirus genomic sequence\n",
            " Length:8991\n",
            "Sequence Name:KY778391.1 HIV-1 isolATe 2275-EM-12 from USA defeCTive provirus GenomiC sequenCe\n",
            " Length:7907\n",
            "Sequence Name:KY778392.1 HIV-1 isolATe 2275-EM-14 from USA defeCTive provirus GenomiC sequenCe\n",
            " Length:8991\n",
            "Sequence Name:KY778393.1 HIV-1 isolATe 2275-EM-16 from USA defeCTive provirus GenomiC sequenCe\n",
            " Length:767\n",
            "Sequence Name:KY778399.1 HIV-1 isolate 2275-EM-26 from USA defective provirus genomic sequence\n",
            " Length:7907\n",
            "Sequence Name:KY778394.1 HIV-1 isolATe 2275-EM-2 from USA defeCTive provirus GenomiC sequenCe\n",
            " Length:8991\n",
            "Sequence Name:KY778395.1 HIV-1 isolATe 2275-EM-21 from USA defeCTive provirus GenomiC sequenCe\n",
            " Length:9009\n"
          ]
        }
      ]
    },
    {
      "cell_type": "markdown",
      "metadata": {
        "id": "CtJ0215ZSmgL"
      },
      "source": [
        "### Part 3-Calculate the total number of each nucleotide present in a sequences and print in the following format:<br>\n",
        "'Header': Length=[A:'count',C:'count', G:'count', T:'count']\n",
        "\n"
      ]
    },
    {
      "cell_type": "code",
      "metadata": {
        "id": "giZ0xao2Xw2P",
        "colab": {
          "base_uri": "https://localhost:8080/"
        },
        "outputId": "b3b9a447-f401-4e83-bdda-8490bbbca857"
      },
      "source": [
        "# print the sequence name and count of A, C, G, and T for each sequence\n",
        "for i in range(len(newDict)):\n",
        "  print(f'Header: {list(newDict.keys())[i]}, Length={newDict[list(newDict.keys())[i]]}')"
      ],
      "execution_count": null,
      "outputs": [
        {
          "output_type": "stream",
          "name": "stdout",
          "text": [
            "Header: HXB2_NesTed_Amplified_ReGion\n",
            ", Length=[3219, 1572, 2146, 1971, 8908]\n",
            "Header: KY778388.1 HIV-1 isolATe 2275-EM-1 from USA defeCTive provirus GenomiC sequenCe\n",
            ", Length=[2864, 1378, 1875, 1790, 7907]\n",
            "Header: KY778389.1 HIV-1 isolATe 2275-EM-10 from USA defeCTive provirus GenomiC sequenCe\n",
            ", Length=[2864, 1378, 1875, 1790, 7907]\n",
            "Header: KY778396.1 HIV-1 isolate 2275-EM-22 from USA defective provirus genomic sequence\n",
            ", Length=[3249, 1594, 2161, 1987, 8991]\n",
            "Header: KY778397.1 HIV-1 isolate 2275-EM-24 from USA defective provirus genomic sequence\n",
            ", Length=[2864, 1378, 1875, 1790, 7907]\n",
            "Header: KY778390.1 HIV-1 isolATe 2275-EM-11 from USA defeCTive provirus GenomiC sequenCe\n",
            ", Length=[3250, 1594, 2160, 1987, 8991]\n",
            "Header: KY778398.1 HIV-1 isolate 2275-EM-25 from USA defective provirus genomic sequence\n",
            ", Length=[3249, 1594, 2161, 1987, 8991]\n",
            "Header: KY778391.1 HIV-1 isolATe 2275-EM-12 from USA defeCTive provirus GenomiC sequenCe\n",
            ", Length=[2864, 1378, 1875, 1790, 7907]\n",
            "Header: KY778392.1 HIV-1 isolATe 2275-EM-14 from USA defeCTive provirus GenomiC sequenCe\n",
            ", Length=[3249, 1594, 2161, 1987, 8991]\n",
            "Header: KY778393.1 HIV-1 isolATe 2275-EM-16 from USA defeCTive provirus GenomiC sequenCe\n",
            ", Length=[225, 156, 224, 162, 767]\n",
            "Header: KY778399.1 HIV-1 isolate 2275-EM-26 from USA defective provirus genomic sequence\n",
            ", Length=[2864, 1379, 1876, 1788, 7907]\n",
            "Header: KY778394.1 HIV-1 isolATe 2275-EM-2 from USA defeCTive provirus GenomiC sequenCe\n",
            ", Length=[3249, 1594, 2161, 1987, 8991]\n",
            "Header: KY778395.1 HIV-1 isolATe 2275-EM-21 from USA defeCTive provirus GenomiC sequenCe\n",
            ", Length=[3258, 1595, 2163, 1993, 9009]\n"
          ]
        }
      ]
    },
    {
      "cell_type": "markdown",
      "metadata": {
        "id": "l72D93z1Sm9w"
      },
      "source": [
        "### Part 4- Calculate and print the G/C content of the sequences in the following format:<br>\n",
        "'Header': GC=['percent']\n"
      ]
    },
    {
      "cell_type": "code",
      "metadata": {
        "id": "jayGMmckYtKb",
        "colab": {
          "base_uri": "https://localhost:8080/"
        },
        "outputId": "1f5efdd1-3b8b-4a3b-eed4-a576e2f667b2"
      },
      "source": [
        "# print the sequence name and percent of GC bases in each sequence\n",
        "for i in range(len(newDict)):\n",
        "  currSeq = list(newDict.keys())[i]\n",
        "  print(f'{currSeq}: GC = ',end=' ')\n",
        "  percent = (newDict[currSeq][2]+newDict[currSeq][3])/newDict[currSeq][4]\n",
        "  print(f'{((percent)*100):.2f}%')"
      ],
      "execution_count": null,
      "outputs": [
        {
          "output_type": "stream",
          "name": "stdout",
          "text": [
            "HXB2_NesTed_Amplified_ReGion\n",
            ": GC =  46.22%\n",
            "KY778388.1 HIV-1 isolATe 2275-EM-1 from USA defeCTive provirus GenomiC sequenCe\n",
            ": GC =  46.35%\n",
            "KY778389.1 HIV-1 isolATe 2275-EM-10 from USA defeCTive provirus GenomiC sequenCe\n",
            ": GC =  46.35%\n",
            "KY778396.1 HIV-1 isolate 2275-EM-22 from USA defective provirus genomic sequence\n",
            ": GC =  46.14%\n",
            "KY778397.1 HIV-1 isolate 2275-EM-24 from USA defective provirus genomic sequence\n",
            ": GC =  46.35%\n",
            "KY778390.1 HIV-1 isolATe 2275-EM-11 from USA defeCTive provirus GenomiC sequenCe\n",
            ": GC =  46.12%\n",
            "KY778398.1 HIV-1 isolate 2275-EM-25 from USA defective provirus genomic sequence\n",
            ": GC =  46.14%\n",
            "KY778391.1 HIV-1 isolATe 2275-EM-12 from USA defeCTive provirus GenomiC sequenCe\n",
            ": GC =  46.35%\n",
            "KY778392.1 HIV-1 isolATe 2275-EM-14 from USA defeCTive provirus GenomiC sequenCe\n",
            ": GC =  46.14%\n",
            "KY778393.1 HIV-1 isolATe 2275-EM-16 from USA defeCTive provirus GenomiC sequenCe\n",
            ": GC =  50.33%\n",
            "KY778399.1 HIV-1 isolate 2275-EM-26 from USA defective provirus genomic sequence\n",
            ": GC =  46.34%\n",
            "KY778394.1 HIV-1 isolATe 2275-EM-2 from USA defeCTive provirus GenomiC sequenCe\n",
            ": GC =  46.14%\n",
            "KY778395.1 HIV-1 isolATe 2275-EM-21 from USA defeCTive provirus GenomiC sequenCe\n",
            ": GC =  46.13%\n"
          ]
        }
      ]
    },
    {
      "cell_type": "markdown",
      "metadata": {
        "id": "TI41sATHS9Tv"
      },
      "source": [
        "### Part 5- Output Table\n",
        " Report these results to a new file in a neatly written table and output to a file named HW_Wk2_LastName_Results.txt. Include the count of the number of sequence in the first line of your file as such (\"The number of sequences are:###)\n",
        " The table should be labeled as such: <br>\n",
        "\n",
        " |Length| A count| C Count| G Count| T Count| GC%|\n",
        " |-----|-------|-------|-------|-------|-------|\n",
        " |###|###|###|###|###|###|###|\n",
        "  |###|###|###|###|###|###|###|\n",
        "  |###|###|###|###|###|###|###|\n"
      ]
    },
    {
      "cell_type": "code",
      "metadata": {
        "colab": {
          "base_uri": "https://localhost:8080/"
        },
        "id": "bhnsqz1LaKNd",
        "outputId": "92e1e6a3-670c-46f7-e5c1-6084cbbbe696"
      },
      "source": [
        "OUTPUT_FILE_NAME = 'Assignment2_MyName_Results.txt'\n",
        "\n",
        "outfile = open(OUTPUT_FILE_NAME, \"w\")\n",
        "print(\"Writing to the file:\", OUTPUT_FILE_NAME)\n",
        "\n",
        "#use this print statement to print a header to file\n",
        "print(\"{}\\t{}\\t{}\\t{}\\t{}\\t{}\".format(\"Length\", \"A count\", \"C count\", \"G count\", \"T count\", \"GC %\"), file=outfile)\n",
        "\n",
        "#adapt the print statement above print the values from the dictionary (you created dictionary above) using the \"items\" method\n",
        "  ### as the header implies, each entry in the fasta file should be represented in the table by its length, base counts, and percentage of GC bases\n",
        "\n",
        "\n",
        "# close the output file\n",
        "outfile.close()\n",
        "\n",
        "\n",
        "\n"
      ],
      "execution_count": 101,
      "outputs": [
        {
          "output_type": "stream",
          "name": "stdout",
          "text": [
            "Writing to the file: Assignment2_MyName_Results.txt\n"
          ]
        }
      ]
    },
    {
      "cell_type": "markdown",
      "metadata": {
        "id": "d6Zv28yhS80k"
      },
      "source": [
        "###Part 6 *Optional* - Extra Credit\n",
        "Report the total number of sequences in the file and a list of the\n",
        "headers/sequence names to the console."
      ]
    },
    {
      "cell_type": "code",
      "metadata": {
        "id": "WssVMbRJSR3R",
        "colab": {
          "base_uri": "https://localhost:8080/"
        },
        "outputId": "15015ec4-547f-4553-8855-bf50705c9da4"
      },
      "source": [],
      "execution_count": null,
      "outputs": [
        {
          "output_type": "stream",
          "name": "stdout",
          "text": [
            "1.0\n"
          ]
        }
      ]
    }
  ]
}